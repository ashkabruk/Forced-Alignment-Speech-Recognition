{
 "cells": [
  {
   "cell_type": "code",
   "execution_count": 1,
   "metadata": {},
   "outputs": [],
   "source": [
    "#!pip install -U yt-dlp\n",
    "#!pip install pypdf2\n",
    "#!pip install pymupdf\n",
    "import yt_dlp\n",
    "import os\n",
    "from tqdm import tqdm\n",
    "from datetime import datetime\n",
    "import requests\n",
    "from PyPDF2 import PdfReader\n",
    "import fitz # PyMuPDF"
   ]
  },
  {
   "cell_type": "code",
   "execution_count": 3,
   "metadata": {},
   "outputs": [],
   "source": [
    "amount_of_videos = 20 # roughly 50 minutes per video"
   ]
  },
  {
   "cell_type": "code",
   "execution_count": 4,
   "metadata": {},
   "outputs": [
    {
     "name": "stdout",
     "output_type": "stream",
     "text": [
      "['https://www.youtube.com/watch?v=uQJZBo-fMB0', 'https://www.youtube.com/watch?v=9XDGXUN4th8', 'https://www.youtube.com/watch?v=nEVZJQob_5w', 'https://www.youtube.com/watch?v=zEuJUFGpnrg', 'https://www.youtube.com/watch?v=TnT9J0JwmsA', 'https://www.youtube.com/watch?v=-POrkH47u8k', 'https://www.youtube.com/watch?v=GGae2FO4t6U', 'https://www.youtube.com/watch?v=lQXF9kwHb5s', 'https://www.youtube.com/watch?v=g3Af2ntyQyU', 'https://www.youtube.com/watch?v=kz0o3NJQpX0', 'https://www.youtube.com/watch?v=fVUGwgLTzbw', 'https://www.youtube.com/watch?v=jmjLFtvSvT8', 'https://www.youtube.com/watch?v=ydsRMdMdIHQ', 'https://www.youtube.com/watch?v=b6J2tkhu9VU', 'https://www.youtube.com/watch?v=R8wxdyEULtg', 'https://www.youtube.com/watch?v=N9ZYIEI8pNQ', 'https://www.youtube.com/watch?v=33B4KyxX0v8', 'https://www.youtube.com/watch?v=PDWPZkLcWgE', 'https://www.youtube.com/watch?v=_4bnFq1LydY', 'https://www.youtube.com/watch?v=44lawMt0hvc']\n",
      "['https://www.federalreserve.gov/mediacenter/files/FOMCpresconf20190130.pdf', 'https://www.federalreserve.gov/mediacenter/files/FOMCpresconf20190320.pdf', 'https://www.federalreserve.gov/mediacenter/files/FOMCpresconf20190501.pdf', 'https://www.federalreserve.gov/mediacenter/files/FOMCpresconf20190619.pdf', 'https://www.federalreserve.gov/mediacenter/files/FOMCpresconf20190918.pdf', 'https://www.federalreserve.gov/mediacenter/files/FOMCpresconf20191030.pdf', 'https://www.federalreserve.gov/mediacenter/files/FOMCpresconf20191211.pdf', 'https://www.federalreserve.gov/mediacenter/files/FOMCpresconf20200129.pdf', 'https://www.federalreserve.gov/mediacenter/files/FOMCpresconf20200429.pdf', 'https://www.federalreserve.gov/mediacenter/files/FOMCpresconf20200610.pdf', 'https://www.federalreserve.gov/mediacenter/files/FOMCpresconf20200729.pdf', 'https://www.federalreserve.gov/mediacenter/files/FOMCpresconf20200916.pdf', 'https://www.federalreserve.gov/mediacenter/files/FOMCpresconf20201105.pdf', 'https://www.federalreserve.gov/mediacenter/files/FOMCpresconf20201216.pdf', 'https://www.federalreserve.gov/mediacenter/files/FOMCpresconf20210127.pdf', 'https://www.federalreserve.gov/mediacenter/files/FOMCpresconf20210317.pdf', 'https://www.federalreserve.gov/mediacenter/files/FOMCpresconf20210428.pdf', 'https://www.federalreserve.gov/mediacenter/files/FOMCpresconf20210616.pdf', 'https://www.federalreserve.gov/mediacenter/files/FOMCpresconf20210728.pdf', 'https://www.federalreserve.gov/mediacenter/files/FOMCpresconf20210922.pdf']\n"
     ]
    }
   ],
   "source": [
    "audio_links = []\n",
    "transcript_links = []\n",
    "\n",
    "with open(\"fomc_videos_transcripts_links.csv\") as f:\n",
    "    next(f) # skip header column\n",
    "    for n, i in enumerate(f):\n",
    "        if n == amount_of_videos:\n",
    "            break\n",
    "        audio_links.append(i.split(\",\")[1])\n",
    "        transcript_links.append(i.split(\",\")[2].strip())\n",
    "        \n",
    "\n",
    "print(audio_links)\n",
    "print(transcript_links)"
   ]
  },
  {
   "cell_type": "code",
   "execution_count": 7,
   "metadata": {},
   "outputs": [
    {
     "name": "stdout",
     "output_type": "stream",
     "text": [
      "Downloading 20 videos and converting to .wav format\n",
      "Each .wav file will be roughly 500 MB in size\n",
      "\n",
      "\n"
     ]
    },
    {
     "name": "stderr",
     "output_type": "stream",
     "text": [
      "  0%|          | 0/20 [00:00<?, ?it/s]"
     ]
    },
    {
     "name": "stdout",
     "output_type": "stream",
     "text": [
      "[youtube] Extracting URL: https://www.youtube.com/watch?v=uQJZBo-fMB0\n",
      "[youtube] uQJZBo-fMB0: Downloading webpage\n",
      "[youtube] uQJZBo-fMB0: Downloading ios player API JSON\n",
      "[youtube] uQJZBo-fMB0: Downloading mweb player API JSON\n",
      "[youtube] uQJZBo-fMB0: Downloading player 03dbdfab\n",
      "[youtube] uQJZBo-fMB0: Downloading m3u8 information\n",
      "[info] uQJZBo-fMB0: Downloading 1 format(s): 140\n",
      "[download] Destination: data\\audio_files\\FOMC Press Conference January 30, 2019.m4a\n",
      "[download] 100% of   44.22MiB in 00:00:04 at 11.02MiB/s    \n",
      "[FixupM4a] Correcting container of \"data\\audio_files\\FOMC Press Conference January 30, 2019.m4a\"\n",
      "[ExtractAudio] Destination: data\\audio_files\\FOMC Press Conference January 30, 2019.wav\n",
      "Deleting original file data\\audio_files\\FOMC Press Conference January 30, 2019.m4a (pass -k to keep)\n"
     ]
    },
    {
     "name": "stderr",
     "output_type": "stream",
     "text": [
      "  5%|▌         | 1/20 [00:09<02:56,  9.29s/it]"
     ]
    },
    {
     "name": "stdout",
     "output_type": "stream",
     "text": [
      "[youtube] Extracting URL: https://www.youtube.com/watch?v=9XDGXUN4th8\n",
      "[youtube] 9XDGXUN4th8: Downloading webpage\n",
      "[youtube] 9XDGXUN4th8: Downloading ios player API JSON\n",
      "[youtube] 9XDGXUN4th8: Downloading mweb player API JSON\n",
      "[youtube] 9XDGXUN4th8: Downloading m3u8 information\n",
      "[info] 9XDGXUN4th8: Downloading 1 format(s): 140\n",
      "[download] Destination: data\\audio_files\\FOMC Press Conference March 20, 2019.m4a\n",
      "[download] 100% of   42.40MiB in 00:00:03 at 11.63MiB/s    \n",
      "[FixupM4a] Correcting container of \"data\\audio_files\\FOMC Press Conference March 20, 2019.m4a\"\n",
      "[ExtractAudio] Destination: data\\audio_files\\FOMC Press Conference March 20, 2019.wav\n",
      "Deleting original file data\\audio_files\\FOMC Press Conference March 20, 2019.m4a (pass -k to keep)\n"
     ]
    },
    {
     "name": "stderr",
     "output_type": "stream",
     "text": [
      " 10%|█         | 2/20 [00:17<02:35,  8.65s/it]"
     ]
    },
    {
     "name": "stdout",
     "output_type": "stream",
     "text": [
      "[youtube] Extracting URL: https://www.youtube.com/watch?v=nEVZJQob_5w\n",
      "[youtube] nEVZJQob_5w: Downloading webpage\n",
      "[youtube] nEVZJQob_5w: Downloading ios player API JSON\n",
      "[youtube] nEVZJQob_5w: Downloading mweb player API JSON\n",
      "[youtube] nEVZJQob_5w: Downloading m3u8 information\n",
      "[info] nEVZJQob_5w: Downloading 1 format(s): 251\n",
      "[download] Destination: data\\audio_files\\FOMC Press Conference May 1, 2019.webm\n",
      "[download] 100% of   29.76MiB in 00:00:06 at 4.87MiB/s     \n",
      "[ExtractAudio] Destination: data\\audio_files\\FOMC Press Conference May 1, 2019.wav\n",
      "Deleting original file data\\audio_files\\FOMC Press Conference May 1, 2019.webm (pass -k to keep)\n"
     ]
    },
    {
     "name": "stderr",
     "output_type": "stream",
     "text": [
      " 15%|█▌        | 3/20 [00:30<03:01, 10.66s/it]"
     ]
    },
    {
     "name": "stdout",
     "output_type": "stream",
     "text": [
      "[youtube] Extracting URL: https://www.youtube.com/watch?v=zEuJUFGpnrg\n",
      "[youtube] zEuJUFGpnrg: Downloading webpage\n",
      "[youtube] zEuJUFGpnrg: Downloading ios player API JSON\n",
      "[youtube] zEuJUFGpnrg: Downloading mweb player API JSON\n",
      "[youtube] zEuJUFGpnrg: Downloading m3u8 information\n",
      "[info] zEuJUFGpnrg: Downloading 1 format(s): 251\n",
      "[download] Destination: data\\audio_files\\FOMC Press Conference June 19, 2019.webm\n",
      "[download] 100% of   29.65MiB in 00:00:06 at 4.74MiB/s     \n",
      "[ExtractAudio] Destination: data\\audio_files\\FOMC Press Conference June 19, 2019.wav\n",
      "Deleting original file data\\audio_files\\FOMC Press Conference June 19, 2019.webm (pass -k to keep)\n"
     ]
    },
    {
     "name": "stderr",
     "output_type": "stream",
     "text": [
      " 20%|██        | 4/20 [00:43<03:06, 11.68s/it]"
     ]
    },
    {
     "name": "stdout",
     "output_type": "stream",
     "text": [
      "[youtube] Extracting URL: https://www.youtube.com/watch?v=TnT9J0JwmsA\n",
      "[youtube] TnT9J0JwmsA: Downloading webpage\n",
      "[youtube] TnT9J0JwmsA: Downloading ios player API JSON\n",
      "[youtube] TnT9J0JwmsA: Downloading mweb player API JSON\n",
      "[youtube] TnT9J0JwmsA: Downloading m3u8 information\n",
      "[info] TnT9J0JwmsA: Downloading 1 format(s): 251\n",
      "[download] Destination: data\\audio_files\\FOMC Press Conference September 18, 2019.webm\n",
      "[download] 100% of   38.70MiB in 00:00:11 at 3.39MiB/s     \n",
      "[ExtractAudio] Destination: data\\audio_files\\FOMC Press Conference September 18, 2019.wav\n",
      "Deleting original file data\\audio_files\\FOMC Press Conference September 18, 2019.webm (pass -k to keep)\n"
     ]
    },
    {
     "name": "stderr",
     "output_type": "stream",
     "text": [
      " 25%|██▌       | 5/20 [01:03<03:38, 14.54s/it]"
     ]
    },
    {
     "name": "stdout",
     "output_type": "stream",
     "text": [
      "[youtube] Extracting URL: https://www.youtube.com/watch?v=-POrkH47u8k\n",
      "[youtube] -POrkH47u8k: Downloading webpage\n",
      "[youtube] -POrkH47u8k: Downloading ios player API JSON\n",
      "[youtube] -POrkH47u8k: Downloading mweb player API JSON\n",
      "[youtube] -POrkH47u8k: Downloading m3u8 information\n",
      "[info] -POrkH47u8k: Downloading 1 format(s): 251\n",
      "[download] Destination: data\\audio_files\\FOMC Press Conference October 30, 2019.webm\n",
      "[download] 100% of   35.30MiB in 00:00:05 at 6.94MiB/s     \n",
      "[ExtractAudio] Destination: data\\audio_files\\FOMC Press Conference October 30, 2019.wav\n",
      "Deleting original file data\\audio_files\\FOMC Press Conference October 30, 2019.webm (pass -k to keep)\n"
     ]
    },
    {
     "name": "stderr",
     "output_type": "stream",
     "text": [
      " 30%|███       | 6/20 [01:15<03:14, 13.88s/it]"
     ]
    },
    {
     "name": "stdout",
     "output_type": "stream",
     "text": [
      "[youtube] Extracting URL: https://www.youtube.com/watch?v=GGae2FO4t6U\n",
      "[youtube] GGae2FO4t6U: Downloading webpage\n",
      "[youtube] GGae2FO4t6U: Downloading ios player API JSON\n",
      "[youtube] GGae2FO4t6U: Downloading mweb player API JSON\n",
      "[youtube] GGae2FO4t6U: Downloading m3u8 information\n",
      "[info] GGae2FO4t6U: Downloading 1 format(s): 251\n",
      "[download] Destination: data\\audio_files\\FOMC Press Conference December 11, 2019.webm\n",
      "[download] 100% of   38.73MiB in 00:00:19 at 1.99MiB/s     \n",
      "[ExtractAudio] Destination: data\\audio_files\\FOMC Press Conference December 11, 2019.wav\n",
      "Deleting original file data\\audio_files\\FOMC Press Conference December 11, 2019.webm (pass -k to keep)\n"
     ]
    },
    {
     "name": "stderr",
     "output_type": "stream",
     "text": [
      " 35%|███▌      | 7/20 [01:43<03:57, 18.29s/it]"
     ]
    },
    {
     "name": "stdout",
     "output_type": "stream",
     "text": [
      "[youtube] Extracting URL: https://www.youtube.com/watch?v=lQXF9kwHb5s\n",
      "[youtube] lQXF9kwHb5s: Downloading webpage\n",
      "[youtube] lQXF9kwHb5s: Downloading ios player API JSON\n",
      "[youtube] lQXF9kwHb5s: Downloading mweb player API JSON\n",
      "[youtube] lQXF9kwHb5s: Downloading m3u8 information\n",
      "[info] lQXF9kwHb5s: Downloading 1 format(s): 251\n",
      "[download] Destination: data\\audio_files\\FOMC Press Conference January 29, 2020.webm\n",
      "[download] 100% of   41.22MiB in 00:00:03 at 10.74MiB/s    \n",
      "[ExtractAudio] Destination: data\\audio_files\\FOMC Press Conference January 29, 2020.wav\n",
      "Deleting original file data\\audio_files\\FOMC Press Conference January 29, 2020.webm (pass -k to keep)\n"
     ]
    },
    {
     "name": "stderr",
     "output_type": "stream",
     "text": [
      " 40%|████      | 8/20 [01:55<03:16, 16.35s/it]"
     ]
    },
    {
     "name": "stdout",
     "output_type": "stream",
     "text": [
      "[youtube] Extracting URL: https://www.youtube.com/watch?v=g3Af2ntyQyU\n",
      "[youtube] g3Af2ntyQyU: Downloading webpage\n",
      "[youtube] g3Af2ntyQyU: Downloading ios player API JSON\n",
      "[youtube] g3Af2ntyQyU: Downloading mweb player API JSON\n",
      "[youtube] g3Af2ntyQyU: Downloading m3u8 information\n",
      "[info] g3Af2ntyQyU: Downloading 1 format(s): 251\n",
      "[download] Destination: data\\audio_files\\FOMC Press Conference April 29, 2020.webm\n",
      "[download] 100% of   40.11MiB in 00:00:10 at 3.73MiB/s     \n",
      "[ExtractAudio] Destination: data\\audio_files\\FOMC Press Conference April 29, 2020.wav\n",
      "Deleting original file data\\audio_files\\FOMC Press Conference April 29, 2020.webm (pass -k to keep)\n"
     ]
    },
    {
     "name": "stderr",
     "output_type": "stream",
     "text": [
      " 45%|████▌     | 9/20 [02:14<03:07, 17.08s/it]"
     ]
    },
    {
     "name": "stdout",
     "output_type": "stream",
     "text": [
      "[youtube] Extracting URL: https://www.youtube.com/watch?v=kz0o3NJQpX0\n",
      "[youtube] kz0o3NJQpX0: Downloading webpage\n",
      "[youtube] kz0o3NJQpX0: Downloading ios player API JSON\n",
      "[youtube] kz0o3NJQpX0: Downloading mweb player API JSON\n",
      "[youtube] kz0o3NJQpX0: Downloading m3u8 information\n",
      "[info] kz0o3NJQpX0: Downloading 1 format(s): 251\n",
      "[download] Destination: data\\audio_files\\FOMC Press Conference June 10, 2020.webm\n",
      "[download] 100% of   46.38MiB in 00:00:15 at 3.07MiB/s     \n",
      "[ExtractAudio] Destination: data\\audio_files\\FOMC Press Conference June 10, 2020.wav\n",
      "Deleting original file data\\audio_files\\FOMC Press Conference June 10, 2020.webm (pass -k to keep)\n"
     ]
    },
    {
     "name": "stderr",
     "output_type": "stream",
     "text": [
      " 50%|█████     | 10/20 [02:38<03:13, 19.35s/it]"
     ]
    },
    {
     "name": "stdout",
     "output_type": "stream",
     "text": [
      "[youtube] Extracting URL: https://www.youtube.com/watch?v=fVUGwgLTzbw\n",
      "[youtube] fVUGwgLTzbw: Downloading webpage\n",
      "[youtube] fVUGwgLTzbw: Downloading ios player API JSON\n",
      "[youtube] fVUGwgLTzbw: Downloading mweb player API JSON\n",
      "[youtube] fVUGwgLTzbw: Downloading m3u8 information\n",
      "[info] fVUGwgLTzbw: Downloading 1 format(s): 251\n",
      "[download] Destination: data\\audio_files\\FOMC Press Conference July 29, 2020.webm\n",
      "[download] 100% of   44.83MiB in 00:00:04 at 10.76MiB/s    \n",
      "[ExtractAudio] Destination: data\\audio_files\\FOMC Press Conference July 29, 2020.wav\n",
      "Deleting original file data\\audio_files\\FOMC Press Conference July 29, 2020.webm (pass -k to keep)\n"
     ]
    },
    {
     "name": "stderr",
     "output_type": "stream",
     "text": [
      " 55%|█████▌    | 11/20 [02:52<02:37, 17.52s/it]"
     ]
    },
    {
     "name": "stdout",
     "output_type": "stream",
     "text": [
      "[youtube] Extracting URL: https://www.youtube.com/watch?v=jmjLFtvSvT8\n",
      "[youtube] jmjLFtvSvT8: Downloading webpage\n",
      "[youtube] jmjLFtvSvT8: Downloading ios player API JSON\n",
      "[youtube] jmjLFtvSvT8: Downloading mweb player API JSON\n",
      "[youtube] jmjLFtvSvT8: Downloading m3u8 information\n",
      "[info] jmjLFtvSvT8: Downloading 1 format(s): 251\n",
      "[download] Destination: data\\audio_files\\FOMC Press Conference September 16, 2020.webm\n",
      "[download] 100% of   50.41MiB in 00:00:03 at 13.09MiB/s    \n",
      "[ExtractAudio] Destination: data\\audio_files\\FOMC Press Conference September 16, 2020.wav\n",
      "Deleting original file data\\audio_files\\FOMC Press Conference September 16, 2020.webm (pass -k to keep)\n"
     ]
    },
    {
     "name": "stderr",
     "output_type": "stream",
     "text": [
      " 60%|██████    | 12/20 [03:05<02:10, 16.32s/it]"
     ]
    },
    {
     "name": "stdout",
     "output_type": "stream",
     "text": [
      "[youtube] Extracting URL: https://www.youtube.com/watch?v=ydsRMdMdIHQ\n",
      "[youtube] ydsRMdMdIHQ: Downloading webpage\n",
      "[youtube] ydsRMdMdIHQ: Downloading ios player API JSON\n",
      "[youtube] ydsRMdMdIHQ: Downloading mweb player API JSON\n",
      "[youtube] ydsRMdMdIHQ: Downloading m3u8 information\n",
      "[info] ydsRMdMdIHQ: Downloading 1 format(s): 251\n",
      "[download] Destination: data\\audio_files\\FOMC Press Conference, November 5, 2020.webm\n",
      "[download] 100% of   38.19MiB in 00:00:11 at 3.28MiB/s     \n",
      "[ExtractAudio] Destination: data\\audio_files\\FOMC Press Conference, November 5, 2020.wav\n",
      "Deleting original file data\\audio_files\\FOMC Press Conference, November 5, 2020.webm (pass -k to keep)\n"
     ]
    },
    {
     "name": "stderr",
     "output_type": "stream",
     "text": [
      " 65%|██████▌   | 13/20 [03:25<02:01, 17.37s/it]"
     ]
    },
    {
     "name": "stdout",
     "output_type": "stream",
     "text": [
      "[youtube] Extracting URL: https://www.youtube.com/watch?v=b6J2tkhu9VU\n",
      "[youtube] b6J2tkhu9VU: Downloading webpage\n",
      "[youtube] b6J2tkhu9VU: Downloading ios player API JSON\n",
      "[youtube] b6J2tkhu9VU: Downloading mweb player API JSON\n",
      "[youtube] b6J2tkhu9VU: Downloading m3u8 information\n",
      "[info] b6J2tkhu9VU: Downloading 1 format(s): 251\n",
      "[download] Destination: data\\audio_files\\FOMC Press Conference, December 16, 2020.webm\n",
      "[download] 100% of   46.86MiB in 00:00:07 at 6.13MiB/s     \n",
      "[ExtractAudio] Destination: data\\audio_files\\FOMC Press Conference, December 16, 2020.wav\n",
      "Deleting original file data\\audio_files\\FOMC Press Conference, December 16, 2020.webm (pass -k to keep)\n"
     ]
    },
    {
     "name": "stderr",
     "output_type": "stream",
     "text": [
      " 70%|███████   | 14/20 [03:42<01:43, 17.24s/it]"
     ]
    },
    {
     "name": "stdout",
     "output_type": "stream",
     "text": [
      "[youtube] Extracting URL: https://www.youtube.com/watch?v=R8wxdyEULtg\n",
      "[youtube] R8wxdyEULtg: Downloading webpage\n",
      "[youtube] R8wxdyEULtg: Downloading ios player API JSON\n",
      "[youtube] R8wxdyEULtg: Downloading mweb player API JSON\n",
      "[youtube] R8wxdyEULtg: Downloading m3u8 information\n",
      "[info] R8wxdyEULtg: Downloading 1 format(s): 251\n",
      "[download] Destination: data\\audio_files\\FOMC Press Conference, January 27, 2021.webm\n",
      "[download] 100% of   44.97MiB in 00:00:03 at 11.80MiB/s    \n",
      "[ExtractAudio] Destination: data\\audio_files\\FOMC Press Conference, January 27, 2021.wav\n",
      "Deleting original file data\\audio_files\\FOMC Press Conference, January 27, 2021.webm (pass -k to keep)\n"
     ]
    },
    {
     "name": "stderr",
     "output_type": "stream",
     "text": [
      " 75%|███████▌  | 15/20 [03:54<01:18, 15.80s/it]"
     ]
    },
    {
     "name": "stdout",
     "output_type": "stream",
     "text": [
      "[youtube] Extracting URL: https://www.youtube.com/watch?v=N9ZYIEI8pNQ\n",
      "[youtube] N9ZYIEI8pNQ: Downloading webpage\n",
      "[youtube] N9ZYIEI8pNQ: Downloading ios player API JSON\n",
      "[youtube] N9ZYIEI8pNQ: Downloading mweb player API JSON\n",
      "[youtube] N9ZYIEI8pNQ: Downloading m3u8 information\n",
      "[info] N9ZYIEI8pNQ: Downloading 1 format(s): 251\n",
      "[download] Destination: data\\audio_files\\FOMC Press Conference, March 17, 2021.webm\n",
      "[download] 100% of   48.55MiB in 00:00:07 at 6.67MiB/s     \n",
      "[ExtractAudio] Destination: data\\audio_files\\FOMC Press Conference, March 17, 2021.wav\n",
      "Deleting original file data\\audio_files\\FOMC Press Conference, March 17, 2021.webm (pass -k to keep)\n"
     ]
    },
    {
     "name": "stderr",
     "output_type": "stream",
     "text": [
      " 80%|████████  | 16/20 [04:11<01:03, 15.98s/it]"
     ]
    },
    {
     "name": "stdout",
     "output_type": "stream",
     "text": [
      "[youtube] Extracting URL: https://www.youtube.com/watch?v=33B4KyxX0v8\n",
      "[youtube] 33B4KyxX0v8: Downloading webpage\n",
      "[youtube] 33B4KyxX0v8: Downloading ios player API JSON\n",
      "[youtube] 33B4KyxX0v8: Downloading mweb player API JSON\n",
      "[youtube] 33B4KyxX0v8: Downloading m3u8 information\n",
      "[info] 33B4KyxX0v8: Downloading 1 format(s): 251\n",
      "[download] Destination: data\\audio_files\\FOMC Press Conference,  April 28, 2021.webm\n",
      "[download] 100% of   45.69MiB in 00:00:06 at 7.39MiB/s     \n",
      "[ExtractAudio] Destination: data\\audio_files\\FOMC Press Conference,  April 28, 2021.wav\n",
      "Deleting original file data\\audio_files\\FOMC Press Conference,  April 28, 2021.webm (pass -k to keep)\n"
     ]
    },
    {
     "name": "stderr",
     "output_type": "stream",
     "text": [
      " 85%|████████▌ | 17/20 [04:26<00:46, 15.64s/it]"
     ]
    },
    {
     "name": "stdout",
     "output_type": "stream",
     "text": [
      "[youtube] Extracting URL: https://www.youtube.com/watch?v=PDWPZkLcWgE\n",
      "[youtube] PDWPZkLcWgE: Downloading webpage\n",
      "[youtube] PDWPZkLcWgE: Downloading ios player API JSON\n",
      "[youtube] PDWPZkLcWgE: Downloading mweb player API JSON\n",
      "[youtube] PDWPZkLcWgE: Downloading m3u8 information\n",
      "[info] PDWPZkLcWgE: Downloading 1 format(s): 251\n",
      "[download] Destination: data\\audio_files\\FOMC Press Conference, June 16, 2021.webm\n",
      "[download] 100% of   49.36MiB in 00:00:12 at 3.91MiB/s     \n",
      "[ExtractAudio] Destination: data\\audio_files\\FOMC Press Conference, June 16, 2021.wav\n",
      "Deleting original file data\\audio_files\\FOMC Press Conference, June 16, 2021.webm (pass -k to keep)\n"
     ]
    },
    {
     "name": "stderr",
     "output_type": "stream",
     "text": [
      " 90%|█████████ | 18/20 [04:47<00:35, 17.51s/it]"
     ]
    },
    {
     "name": "stdout",
     "output_type": "stream",
     "text": [
      "[youtube] Extracting URL: https://www.youtube.com/watch?v=_4bnFq1LydY\n",
      "[youtube] _4bnFq1LydY: Downloading webpage\n",
      "[youtube] _4bnFq1LydY: Downloading ios player API JSON\n",
      "[youtube] _4bnFq1LydY: Downloading mweb player API JSON\n",
      "[youtube] _4bnFq1LydY: Downloading m3u8 information\n",
      "[info] _4bnFq1LydY: Downloading 1 format(s): 251\n",
      "[download] Destination: data\\audio_files\\FOMC Press Conference, July 28, 2021.webm\n",
      "[download] 100% of   45.01MiB in 00:00:05 at 7.92MiB/s     \n",
      "[ExtractAudio] Destination: data\\audio_files\\FOMC Press Conference, July 28, 2021.wav\n",
      "Deleting original file data\\audio_files\\FOMC Press Conference, July 28, 2021.webm (pass -k to keep)\n"
     ]
    },
    {
     "name": "stderr",
     "output_type": "stream",
     "text": [
      " 95%|█████████▌| 19/20 [05:02<00:16, 16.59s/it]"
     ]
    },
    {
     "name": "stdout",
     "output_type": "stream",
     "text": [
      "[youtube] Extracting URL: https://www.youtube.com/watch?v=44lawMt0hvc\n",
      "[youtube] 44lawMt0hvc: Downloading webpage\n",
      "[youtube] 44lawMt0hvc: Downloading ios player API JSON\n",
      "[youtube] 44lawMt0hvc: Downloading mweb player API JSON\n",
      "[youtube] 44lawMt0hvc: Downloading m3u8 information\n",
      "[info] 44lawMt0hvc: Downloading 1 format(s): 251\n",
      "[download] Destination: data\\audio_files\\FOMC Press Conference, September 22, 2021.webm\n",
      "[download] 100% of   43.35MiB in 00:00:04 at 9.22MiB/s     \n",
      "[ExtractAudio] Destination: data\\audio_files\\FOMC Press Conference, September 22, 2021.wav\n",
      "Deleting original file data\\audio_files\\FOMC Press Conference, September 22, 2021.webm (pass -k to keep)\n"
     ]
    },
    {
     "name": "stderr",
     "output_type": "stream",
     "text": [
      "100%|██████████| 20/20 [05:16<00:00, 15.84s/it]\n"
     ]
    }
   ],
   "source": [
    "print(\"Downloading\", len(audio_links), \"videos and converting to .wav format\")\n",
    "print(\"Each .wav file will be roughly 90 MB in size\\n\\n\")\n",
    "\n",
    "\n",
    "output_dir = \"data/audio_files\"\n",
    "\n",
    "ydl_opts = {\n",
    "    \"format\": \"bestaudio/best\",\n",
    "    \"postprocessors\": [\n",
    "        {\n",
    "            \"key\": \"FFmpegExtractAudio\",\n",
    "            \"preferredcodec\": \"wav\",\n",
    "            \"preferredquality\": \"192\",\n",
    "        }\n",
    "    ],\n",
    "    \"outtmpl\": os.path.join(output_dir, \"%(title)s.%(ext)s\"),\n",
    "    # Postprocessor hook for additional ffmpeg processing\n",
    "    \"postprocessor_args\": [\n",
    "        \"-ar\", \"16000\",  # Set sample rate to 16 kHz\n",
    "        \"-ac\", \"1\"       # Convert to mono\n",
    "    ],\n",
    "}\n",
    "\n",
    "ydl_opts[\"outtmpl\"] = os.path.join(output_dir, \"%(title)s.%(ext)s\")\n",
    "\n",
    "\n",
    "# Download and convert the video\n",
    "for video in tqdm(audio_links):\n",
    "    with yt_dlp.YoutubeDL(ydl_opts) as ydl:\n",
    "        ydl.download([video])"
   ]
  },
  {
   "cell_type": "code",
   "execution_count": 30,
   "metadata": {},
   "outputs": [
    {
     "name": "stdout",
     "output_type": "stream",
     "text": [
      "Downloading 20 transcripts in pdf\n"
     ]
    },
    {
     "name": "stderr",
     "output_type": "stream",
     "text": [
      "  5%|▌         | 1/20 [00:00<00:04,  4.06it/s]"
     ]
    },
    {
     "name": "stdout",
     "output_type": "stream",
     "text": [
      "PDF downloaded successfully and saved to data/transcript_files/20190130_FOMC.pdf\n"
     ]
    },
    {
     "name": "stderr",
     "output_type": "stream",
     "text": [
      " 15%|█▌        | 3/20 [00:00<00:03,  4.65it/s]"
     ]
    },
    {
     "name": "stdout",
     "output_type": "stream",
     "text": [
      "PDF downloaded successfully and saved to data/transcript_files/20190320_FOMC.pdf\n",
      "PDF downloaded successfully and saved to data/transcript_files/20190501_FOMC.pdf\n"
     ]
    },
    {
     "name": "stderr",
     "output_type": "stream",
     "text": [
      " 20%|██        | 4/20 [00:00<00:03,  4.64it/s]"
     ]
    },
    {
     "name": "stdout",
     "output_type": "stream",
     "text": [
      "PDF downloaded successfully and saved to data/transcript_files/20190619_FOMC.pdf\n"
     ]
    },
    {
     "name": "stderr",
     "output_type": "stream",
     "text": [
      " 25%|██▌       | 5/20 [00:01<00:03,  4.54it/s]"
     ]
    },
    {
     "name": "stdout",
     "output_type": "stream",
     "text": [
      "PDF downloaded successfully and saved to data/transcript_files/20190918_FOMC.pdf\n"
     ]
    },
    {
     "name": "stderr",
     "output_type": "stream",
     "text": [
      " 30%|███       | 6/20 [00:01<00:03,  4.63it/s]"
     ]
    },
    {
     "name": "stdout",
     "output_type": "stream",
     "text": [
      "PDF downloaded successfully and saved to data/transcript_files/20191030_FOMC.pdf\n"
     ]
    },
    {
     "name": "stderr",
     "output_type": "stream",
     "text": [
      " 35%|███▌      | 7/20 [00:01<00:02,  4.65it/s]"
     ]
    },
    {
     "name": "stdout",
     "output_type": "stream",
     "text": [
      "PDF downloaded successfully and saved to data/transcript_files/20191211_FOMC.pdf\n"
     ]
    },
    {
     "name": "stderr",
     "output_type": "stream",
     "text": [
      " 40%|████      | 8/20 [00:01<00:02,  4.65it/s]"
     ]
    },
    {
     "name": "stdout",
     "output_type": "stream",
     "text": [
      "PDF downloaded successfully and saved to data/transcript_files/20200129_FOMC.pdf\n"
     ]
    },
    {
     "name": "stderr",
     "output_type": "stream",
     "text": [
      " 45%|████▌     | 9/20 [00:01<00:02,  4.54it/s]"
     ]
    },
    {
     "name": "stdout",
     "output_type": "stream",
     "text": [
      "PDF downloaded successfully and saved to data/transcript_files/20200429_FOMC.pdf\n"
     ]
    },
    {
     "name": "stderr",
     "output_type": "stream",
     "text": [
      " 50%|█████     | 10/20 [00:02<00:02,  4.44it/s]"
     ]
    },
    {
     "name": "stdout",
     "output_type": "stream",
     "text": [
      "PDF downloaded successfully and saved to data/transcript_files/20200610_FOMC.pdf\n"
     ]
    },
    {
     "name": "stderr",
     "output_type": "stream",
     "text": [
      " 55%|█████▌    | 11/20 [00:02<00:02,  4.38it/s]"
     ]
    },
    {
     "name": "stdout",
     "output_type": "stream",
     "text": [
      "PDF downloaded successfully and saved to data/transcript_files/20200729_FOMC.pdf\n"
     ]
    },
    {
     "name": "stderr",
     "output_type": "stream",
     "text": [
      " 65%|██████▌   | 13/20 [00:02<00:01,  4.37it/s]"
     ]
    },
    {
     "name": "stdout",
     "output_type": "stream",
     "text": [
      "PDF downloaded successfully and saved to data/transcript_files/20200916_FOMC.pdf\n",
      "PDF downloaded successfully and saved to data/transcript_files/20201105_FOMC.pdf\n"
     ]
    },
    {
     "name": "stderr",
     "output_type": "stream",
     "text": [
      " 70%|███████   | 14/20 [00:03<00:01,  4.44it/s]"
     ]
    },
    {
     "name": "stdout",
     "output_type": "stream",
     "text": [
      "PDF downloaded successfully and saved to data/transcript_files/20201216_FOMC.pdf\n"
     ]
    },
    {
     "name": "stderr",
     "output_type": "stream",
     "text": [
      " 75%|███████▌  | 15/20 [00:03<00:01,  4.41it/s]"
     ]
    },
    {
     "name": "stdout",
     "output_type": "stream",
     "text": [
      "PDF downloaded successfully and saved to data/transcript_files/20210127_FOMC.pdf\n"
     ]
    },
    {
     "name": "stderr",
     "output_type": "stream",
     "text": [
      " 85%|████████▌ | 17/20 [00:03<00:00,  4.40it/s]"
     ]
    },
    {
     "name": "stdout",
     "output_type": "stream",
     "text": [
      "PDF downloaded successfully and saved to data/transcript_files/20210317_FOMC.pdf\n",
      "PDF downloaded successfully and saved to data/transcript_files/20210428_FOMC.pdf\n"
     ]
    },
    {
     "name": "stderr",
     "output_type": "stream",
     "text": [
      " 90%|█████████ | 18/20 [00:04<00:00,  4.46it/s]"
     ]
    },
    {
     "name": "stdout",
     "output_type": "stream",
     "text": [
      "PDF downloaded successfully and saved to data/transcript_files/20210616_FOMC.pdf\n"
     ]
    },
    {
     "name": "stderr",
     "output_type": "stream",
     "text": [
      " 95%|█████████▌| 19/20 [00:04<00:00,  4.29it/s]"
     ]
    },
    {
     "name": "stdout",
     "output_type": "stream",
     "text": [
      "PDF downloaded successfully and saved to data/transcript_files/20210728_FOMC.pdf\n"
     ]
    },
    {
     "name": "stderr",
     "output_type": "stream",
     "text": [
      "100%|██████████| 20/20 [00:04<00:00,  4.43it/s]"
     ]
    },
    {
     "name": "stdout",
     "output_type": "stream",
     "text": [
      "PDF downloaded successfully and saved to data/transcript_files/20210922_FOMC.pdf\n"
     ]
    },
    {
     "name": "stderr",
     "output_type": "stream",
     "text": [
      "\n"
     ]
    }
   ],
   "source": [
    "print(\"Downloading\", len(transcript_links), \"transcripts in pdf\")\n",
    "dir_name = \"data/transcript_files\"\n",
    "\n",
    "for i in tqdm(range(len(transcript_links))):\n",
    "    response = requests.get(transcript_links[i])\n",
    "\n",
    "    # Check if the request was successful\n",
    "    if response.status_code == 200:\n",
    "        # Define the output file path\n",
    "        output_file = f\"{dir_name}/{transcript_links[i][-12:-4]}_FOMC.pdf\"\n",
    "        \n",
    "        # Write the content to a file\n",
    "        with open(output_file, \"wb\") as file:\n",
    "            file.write(response.content)\n",
    "        print(f\"PDF downloaded successfully and saved to {output_file}\")"
   ]
  },
  {
   "cell_type": "markdown",
   "metadata": {},
   "source": [
    "### Assert that both folders have equal amount of transcript and audio files"
   ]
  },
  {
   "cell_type": "code",
   "execution_count": 7,
   "metadata": {},
   "outputs": [
    {
     "ename": "AssertionError",
     "evalue": "The number of files in the directories do not match",
     "output_type": "error",
     "traceback": [
      "\u001b[1;31m---------------------------------------------------------------------------\u001b[0m",
      "\u001b[1;31mAssertionError\u001b[0m                            Traceback (most recent call last)",
      "Cell \u001b[1;32mIn[7], line 4\u001b[0m\n\u001b[0;32m      1\u001b[0m audio_files \u001b[38;5;241m=\u001b[39m os\u001b[38;5;241m.\u001b[39mlistdir(\u001b[38;5;124m\"\u001b[39m\u001b[38;5;124mdata/audio_files\u001b[39m\u001b[38;5;124m\"\u001b[39m)\n\u001b[0;32m      2\u001b[0m transcript_files \u001b[38;5;241m=\u001b[39m os\u001b[38;5;241m.\u001b[39mlistdir(\u001b[38;5;124m\"\u001b[39m\u001b[38;5;124mdata/transcript_files\u001b[39m\u001b[38;5;124m\"\u001b[39m)\n\u001b[1;32m----> 4\u001b[0m \u001b[38;5;28;01massert\u001b[39;00m \u001b[38;5;28mlen\u001b[39m(audio_files) \u001b[38;5;241m==\u001b[39m \u001b[38;5;28mlen\u001b[39m(transcript_files), \u001b[38;5;124m\"\u001b[39m\u001b[38;5;124mThe number of files in the directories do not match\u001b[39m\u001b[38;5;124m\"\u001b[39m\n\u001b[0;32m      6\u001b[0m \u001b[38;5;28mprint\u001b[39m(\u001b[38;5;124m\"\u001b[39m\u001b[38;5;124mThe number of files in both directories match.\u001b[39m\u001b[38;5;124m\"\u001b[39m)\n",
      "\u001b[1;31mAssertionError\u001b[0m: The number of files in the directories do not match"
     ]
    }
   ],
   "source": [
    "audio_files = os.listdir(\"data/audio_files\")\n",
    "transcript_files = os.listdir(\"data/transcript_files\")\n",
    "\n",
    "assert len(audio_files) == len(transcript_files), \"The number of files in the directories do not match\"\n",
    "\n",
    "print(\"The number of files in both directories match.\")"
   ]
  },
  {
   "cell_type": "markdown",
   "metadata": {},
   "source": [
    "### Renaming the audio files for consistent naming convention"
   ]
  },
  {
   "cell_type": "code",
   "execution_count": 10,
   "metadata": {},
   "outputs": [
    {
     "name": "stdout",
     "output_type": "stream",
     "text": [
      "Renamed 'FOMC Press Conference April 29, 2020.wav' to '20200429_FOMC.wav'\n",
      "Renamed 'FOMC Press Conference December 11, 2019.wav' to '20191211_FOMC.wav'\n",
      "Renamed 'FOMC Press Conference January 29, 2020.wav' to '20200129_FOMC.wav'\n",
      "Renamed 'FOMC Press Conference January 30, 2019.wav' to '20190130_FOMC.wav'\n",
      "Renamed 'FOMC Press Conference July 29, 2020.wav' to '20200729_FOMC.wav'\n",
      "Renamed 'FOMC Press Conference June 10, 2020.wav' to '20200610_FOMC.wav'\n",
      "Renamed 'FOMC Press Conference June 19, 2019.wav' to '20190619_FOMC.wav'\n",
      "Renamed 'FOMC Press Conference March 20, 2019.wav' to '20190320_FOMC.wav'\n",
      "Renamed 'FOMC Press Conference May 1, 2019.wav' to '20190501_FOMC.wav'\n",
      "Renamed 'FOMC Press Conference October 30, 2019.wav' to '20191030_FOMC.wav'\n",
      "Renamed 'FOMC Press Conference September 16, 2020.wav' to '20200916_FOMC.wav'\n",
      "Renamed 'FOMC Press Conference September 18, 2019.wav' to '20190918_FOMC.wav'\n",
      "Renamed 'FOMC Press Conference,  April 28, 2021.wav' to '20210428_FOMC.wav'\n",
      "Renamed 'FOMC Press Conference, December 16, 2020.wav' to '20201216_FOMC.wav'\n",
      "Renamed 'FOMC Press Conference, January 27, 2021.wav' to '20210127_FOMC.wav'\n",
      "Renamed 'FOMC Press Conference, July 28, 2021.wav' to '20210728_FOMC.wav'\n",
      "Renamed 'FOMC Press Conference, June 16, 2021.wav' to '20210616_FOMC.wav'\n",
      "Renamed 'FOMC Press Conference, March 17, 2021.wav' to '20210317_FOMC.wav'\n",
      "Renamed 'FOMC Press Conference, November 5, 2020.wav' to '20201105_FOMC.wav'\n",
      "Renamed 'FOMC Press Conference, September 22, 2021.wav' to '20210922_FOMC.wav'\n"
     ]
    }
   ],
   "source": [
    "month_mapping = {\n",
    "    \"January\": \"01\",\n",
    "    \"February\": \"02\",\n",
    "    \"March\": \"03\",\n",
    "    \"April\": \"04\",\n",
    "    \"May\": \"05\",\n",
    "    \"June\": \"06\",\n",
    "    \"July\": \"07\",\n",
    "    \"August\": \"08\",\n",
    "    \"September\": \"09\",\n",
    "    \"October\": \"10\",\n",
    "    \"November\": \"11\",\n",
    "    \"December\": \"12\"\n",
    "}\n",
    "\n",
    "directory = \"data/audio_files\"\n",
    "files = os.listdir(directory)\n",
    "\n",
    "def rename_files(directory, files):\n",
    "    for file in files:\n",
    "        # Extract the date part from the filename\n",
    "        parts = file.replace(\",\", \"\").split()\n",
    "        month = month_mapping[parts[3]]\n",
    "        day = parts[4].zfill(2)\n",
    "        year = parts[5][:4] # extract the year without the extension\n",
    "\n",
    "        # Create the new filename\n",
    "        new_filename = f\"{year}{month}{day}_FOMC.wav\"\n",
    "        \n",
    "        # Get the full paths\n",
    "        old_path = os.path.join(directory, file)\n",
    "        new_path = os.path.join(directory, new_filename)\n",
    "        \n",
    "        # Rename the file\n",
    "        os.rename(old_path, new_path)\n",
    "        print(f\"Renamed '{file}' to '{new_filename}'\")\n",
    "\n",
    "rename_files(directory, files)"
   ]
  },
  {
   "cell_type": "markdown",
   "metadata": {},
   "source": [
    "### Transforming the pdf into pure spoken text by creating a rectangle and thus excluding header and footer"
   ]
  },
  {
   "cell_type": "code",
   "execution_count": 38,
   "metadata": {},
   "outputs": [
    {
     "name": "stdout",
     "output_type": "stream",
     "text": [
      "20190130_FOMC.pdf\n",
      "20190320_FOMC.pdf\n",
      "20190501_FOMC.pdf\n",
      "20190619_FOMC.pdf\n",
      "20190918_FOMC.pdf\n",
      "20191030_FOMC.pdf\n",
      "20191211_FOMC.pdf\n",
      "20200129_FOMC.pdf\n",
      "20200429_FOMC.pdf\n",
      "20200610_FOMC.pdf\n",
      "20200729_FOMC.pdf\n",
      "20200916_FOMC.pdf\n",
      "20201105_FOMC.pdf\n",
      "20201216_FOMC.pdf\n",
      "20210127_FOMC.pdf\n",
      "20210317_FOMC.pdf\n",
      "20210428_FOMC.pdf\n",
      "20210616_FOMC.pdf\n",
      "20210728_FOMC.pdf\n",
      "20210922_FOMC.pdf\n"
     ]
    }
   ],
   "source": [
    "import os\n",
    "import re\n",
    "import PyPDF2\n",
    "\n",
    "# Directory containing the PDF files\n",
    "dir_name = \"data/transcript_files\"\n",
    "\n",
    "def extract_text_from_pdf(pdf_path):\n",
    "    \"\"\"\n",
    "    Extract text from a PDF file.\n",
    "    \"\"\"\n",
    "    with open(pdf_path, \"rb\") as file:\n",
    "        reader = PyPDF2.PdfReader(file)\n",
    "        num_pages = len(reader.pages)\n",
    "        text = \"\"\n",
    "        for page_num in range(num_pages):\n",
    "            page = reader.pages[page_num]\n",
    "            text += page.extract_text() + \"\\n\"\n",
    "    return text\n",
    "\n",
    "def preprocess_text(text):\n",
    "    \"\"\"\n",
    "    Preprocess text by removing unnecessary content:\n",
    "    - Removes the text up to and including the first occurrence of \"NAME.\"\n",
    "    - Removes uppercase names surrounded by punctuation (e.g., \". CHAIRMAN POWELL.\").\n",
    "    - Removes page numbers, dates, speaker labels, annotations, and extra spaces.\n",
    "    \"\"\"\n",
    "\n",
    "    text = re.sub(\n",
    "    r\".*?\\b(?:Chairman|Chair)\\sPowell\\b.*?\\.\", \n",
    "    \"\", \n",
    "    text, \n",
    "    count=1,  # Only substitute the first occurrence\n",
    "    flags=re.IGNORECASE | re.DOTALL\n",
    "    )\n",
    "\n",
    "    text = re.sub(\n",
    "    r\"^.*?\\b(?:Chairman|Chair)\\sPowell\\s*’s\\sPress\\sC[ ]?onference\\b.*?$\",  # Matches varying spaces in \"Powell ’s\"\n",
    "    \"\", \n",
    "    text, \n",
    "    flags=re.IGNORECASE | re.MULTILINE  # Enables multiline matching for individual lines\n",
    "    )\n",
    "\n",
    "    # Remove the start of the text up to and including \"NAME.\"\n",
    "    text = re.sub(r'^.*?\\bNAME\\.\\b', '', text, flags=re.DOTALL)\n",
    "\n",
    "    # Remove uppercase names surrounded by punctuation (e.g., \". CHAIRMAN POWELL.\")\n",
    "    text = re.sub(r'[.?!]\\s*[A-Z ]+\\b\\.', '.', text)\n",
    "\n",
    "    # Remove page numbers (e.g., \"Page 21 of 24\")\n",
    "    text = re.sub(r'Page \\d+ of \\d+', '', text)\n",
    "    \n",
    "    # Remove dates (e.g., \"November 5, 2020\")\n",
    "    text = re.sub(r'\\b\\w+ \\d{1,2}, \\d{4}\\b', '', text)\n",
    "    \n",
    "    text = re.sub(r'\\b[A-Z]+(?:\\s[A-Z]+|-)+', '', text)\n",
    "    \n",
    "    # Remove annotations (e.g., \"[laughter]\")\n",
    "    text = re.sub(r'\\[.*?\\]', '', text)\n",
    "    \n",
    "    # Remove extra spaces and newlines\n",
    "    text = re.sub(r'\\s+', ' ', text).strip()\n",
    "\n",
    "    text = re.sub(r'FINAL', '', text)\n",
    "\n",
    "    text = text.replace(\"\\n\", \"\")\n",
    "\n",
    "    # Fix cases with single uppercase letters concatenated to the next word\n",
    "    text = re.sub(r'\\b(?![IA]\\b)([A-Z])\\s+', r'\\1', text)  # Concatenate single uppercase letter with the next word\n",
    "\n",
    "    text = re.sub(r'\\s+([^\\w\\s\\'])', r'\\1', text)\n",
    "\n",
    "    text = re.sub(r'\\s+', ' ', text).strip()\n",
    "    \n",
    "    return text\n",
    "\n",
    "def scan_directory_for_pdfs(directory):\n",
    "    \"\"\"\n",
    "    Scan a directory for PDF files and preprocess their content.\n",
    "    \"\"\"\n",
    "    all_text = \"\"\n",
    "    for filename in os.listdir(directory):\n",
    "        if filename.endswith(\".pdf\"):\n",
    "            pdf_path = os.path.join(directory, filename)\n",
    "            print(filename)\n",
    "            text = extract_text_from_pdf(pdf_path)\n",
    "            preprocessed_text = preprocess_text(text)\n",
    "            all_text += preprocessed_text + \"\\n\"\n",
    "            with open(directory + \"/\" + filename[:-4]+\".txt\", \"w\", encoding=\"utf-8\") as txt_file:\n",
    "                txt_file.write(preprocessed_text)\n",
    "    return all_text\n",
    "\n",
    "# Scan the directory and extract text from all PDF files\n",
    "all_extracted_text = scan_directory_for_pdfs(dir_name)\n"
   ]
  },
  {
   "cell_type": "markdown",
   "metadata": {},
   "source": [
    "Now delete all pdf files"
   ]
  },
  {
   "cell_type": "code",
   "execution_count": 39,
   "metadata": {},
   "outputs": [
    {
     "name": "stdout",
     "output_type": "stream",
     "text": [
      "Deleted 20190130_FOMC.pdf\n",
      "Deleted 20190320_FOMC.pdf\n",
      "Deleted 20190501_FOMC.pdf\n",
      "Deleted 20190619_FOMC.pdf\n",
      "Deleted 20190918_FOMC.pdf\n",
      "Deleted 20191030_FOMC.pdf\n",
      "Deleted 20191211_FOMC.pdf\n",
      "Deleted 20200129_FOMC.pdf\n",
      "Deleted 20200429_FOMC.pdf\n",
      "Deleted 20200610_FOMC.pdf\n",
      "Deleted 20200729_FOMC.pdf\n",
      "Deleted 20200916_FOMC.pdf\n",
      "Deleted 20201105_FOMC.pdf\n",
      "Deleted 20201216_FOMC.pdf\n",
      "Deleted 20210127_FOMC.pdf\n",
      "Deleted 20210317_FOMC.pdf\n",
      "Deleted 20210428_FOMC.pdf\n",
      "Deleted 20210616_FOMC.pdf\n",
      "Deleted 20210728_FOMC.pdf\n",
      "Deleted 20210922_FOMC.pdf\n",
      "rerun the cell before if 'PermissionError' occurs\n"
     ]
    }
   ],
   "source": [
    "dir_name = \"data/transcript_files\"\n",
    "files = os.listdir(dir_name)\n",
    "\n",
    "for file in files:\n",
    "    if file.endswith(\".pdf\"):\n",
    "        os.remove(os.path.join(dir_name, file))\n",
    "        print(f\"Deleted {file}\")\n",
    "\n",
    "print(\"rerun the cell before if 'PermissionError' occurs\")"
   ]
  }
 ],
 "metadata": {
  "kernelspec": {
   "display_name": "whisperx",
   "language": "python",
   "name": "python3"
  },
  "language_info": {
   "codemirror_mode": {
    "name": "ipython",
    "version": 3
   },
   "file_extension": ".py",
   "mimetype": "text/x-python",
   "name": "python",
   "nbconvert_exporter": "python",
   "pygments_lexer": "ipython3",
   "version": "3.10.15"
  }
 },
 "nbformat": 4,
 "nbformat_minor": 2
}
